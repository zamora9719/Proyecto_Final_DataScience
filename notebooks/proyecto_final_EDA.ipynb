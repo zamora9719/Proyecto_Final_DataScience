{
  "cells": [
    {
      "cell_type": "markdown",
      "metadata": {
        "id": "V5CB_KZerMXo"
      },
      "source": [
        "<div align=\"center\">\n",
        "\n",
        "---\n",
        "---\n",
        "# 📚 Proyecto Final Programa Experto Data Science 06\n",
        "---\n",
        "---\n",
        "#### Datamecum\n",
        "#### Autor: Carlos Zamora\n",
        "\n",
        "</div>"
      ]
    },
    {
      "cell_type": "markdown",
      "metadata": {
        "id": "sSBVL2fzs8NG"
      },
      "source": [
        "## Objetivo del proyecto\n",
        "\n",
        "🎯 La naturaleza de la problemática presentada es de Regresión (Aprendizaje Supervisado). El objetivo principal es la obtención de un modelo que se ajuste a los datos proporcionados, y tenga buena capacidad de predicción."
      ]
    },
    {
      "cell_type": "markdown",
      "metadata": {
        "id": "cdgSGhkbuyJB"
      },
      "source": [
        "---\n",
        "## 📊 Fase 1: EDA\n",
        "\n",
        "💡Dado que los datos están ofuscados, se descarta aplicar conocimiento de dominio a los mismos.\n",
        "\n",
        "🔍 Comenzamos calculando los estadísticos básicos del dataset y graficando las entidades importantes (relaciones entre variables, distribuciones, etc.)\n",
        "\n",
        "IMPORTANTE: debido al uso de Widgets, este notebook se mostrará sin outputs en GitHub, ya que no se pueden renderizar. Para ver el análisis completo, se recomienda descargar el proyecto y ejecutarlo en local.\n",
        "\n",
        "---"
      ]
    },
    {
      "cell_type": "code",
      "execution_count": null,
      "metadata": {
        "id": "axnexS5oVEqv"
      },
      "outputs": [],
      "source": [
        "import pandas as pd\n",
        "import numpy as np\n",
        "import seaborn as sns\n",
        "from ipywidgets import interact, fixed\n",
        "import missingno as msno\n",
        "\n",
        "import sys\n",
        "sys.path.append('..\\src')\n",
        "from functions import (unique_col_values, \n",
        "                           test_anderson_norm, \n",
        "                           heatmap_corr,\n",
        "                           reset_test,\n",
        "                           grafico_caja\n",
        "                           )"
      ]
    },
    {
      "cell_type": "code",
      "execution_count": null,
      "metadata": {
        "colab": {
          "base_uri": "https://localhost:8080/",
          "height": 206
        },
        "id": "WE71zzWIu_mu",
        "outputId": "4bd3033f-7e90-4be7-b827-2365f017915a"
      },
      "outputs": [],
      "source": [
        "datos = pd.read_excel('../data/train.xlsx')\n",
        "datos.head()"
      ]
    },
    {
      "cell_type": "code",
      "execution_count": null,
      "metadata": {
        "colab": {
          "base_uri": "https://localhost:8080/",
          "height": 612
        },
        "id": "MzELsTEJVwqv",
        "outputId": "6bd9c821-ea59-424a-ded7-af2a0b35d3c0"
      },
      "outputs": [],
      "source": [
        "datos.info()\n",
        "datos.describe()"
      ]
    },
    {
      "cell_type": "code",
      "execution_count": null,
      "metadata": {
        "colab": {
          "base_uri": "https://localhost:8080/"
        },
        "id": "t_cb8RCdaYpm",
        "outputId": "ebf1f91b-bb6d-4620-d5ae-f8bcdfce6e4c"
      },
      "outputs": [],
      "source": [
        "unique_col_values(datos)"
      ]
    },
    {
      "cell_type": "code",
      "execution_count": null,
      "metadata": {
        "colab": {
          "base_uri": "https://localhost:8080/",
          "height": 554
        },
        "id": "n09qbR8aMX4d",
        "outputId": "8b5786db-cca4-4cc2-c51b-4b906dfc05a5"
      },
      "outputs": [],
      "source": [
        "datos['x8'].value_counts().sort_index()"
      ]
    },
    {
      "cell_type": "markdown",
      "metadata": {
        "id": "G8c4jq9mVuLP"
      },
      "source": [
        "---\n",
        "Con este primer vistazo a los datos, podemos aseverar varios puntos:\n",
        "1. Hay una **variable extremadamente sesgada (\"x1\")**, con una diferencia muy grande en valor entre media y mediana; esto representa potencial incidencia de no normalidad. Además, tiene una distribución muy amplia (mucha distancia entre cuantiles); esto refleja la posible existencia de valores atípicos.\n",
        "2. Dos variables **(\"x2\" y \"x3\")** presentan **indicios de una distribución bimodal**, por la distribución de sus cuartiles. Podría indicar que datos proceden de 2 distribuciones distintas para cada una.\n",
        "3. **\"x10\"** parece ser una variable de tipo porcentaje, como un **coeficiente o un ratio**.\n",
        "4. **\"x8\"** presenta solamente **15 valores distintos**. Además, estos 15 valores parecen ser días del año, ya que el rango va desde 1 a 365. Podría ser un indicador de la sucesión de un evento.\n",
        "5. Presencia de **nulos en todas las variables excepto en la \"deseada\"**.\n",
        "---"
      ]
    },
    {
      "cell_type": "code",
      "execution_count": null,
      "metadata": {
        "colab": {
          "base_uri": "https://localhost:8080/",
          "height": 482
        },
        "id": "U9TrikUDU1O7",
        "outputId": "a6fcde65-8905-4529-c3a7-35a94acc235b"
      },
      "outputs": [],
      "source": [
        "msno.heatmap(datos, figsize=(10,5), fontsize=10)"
      ]
    },
    {
      "cell_type": "code",
      "execution_count": null,
      "metadata": {
        "colab": {
          "base_uri": "https://localhost:8080/",
          "height": 523
        },
        "id": "jq5iBtUulXLP",
        "outputId": "54828cbc-c0b0-4fbc-9604-aba5cc2f97e1"
      },
      "outputs": [],
      "source": [
        "msno.matrix(datos)"
      ]
    },
    {
      "cell_type": "markdown",
      "metadata": {
        "id": "iCERsiBicZEw"
      },
      "source": [
        "---\n",
        "El análisis de nulos en detalle revela que el proceso que explica los datos faltantes podría ser **MCAR o MAR**. El MCAR es más una idealización teórica que un factor explicativo de datos faltantes en un contexto real, por tanto asumimos que existe un proceso [(Missing at Random)](https://stefvanbuuren.name/fimd/sec-MCAR.html) que los explica, y **sería correcto aplicar técnicas de imputación**.\n",
        "\n",
        "---"
      ]
    },
    {
      "cell_type": "code",
      "execution_count": null,
      "metadata": {
        "colab": {
          "base_uri": "https://localhost:8080/",
          "height": 1000
        },
        "id": "TJ38th_5xeWD",
        "outputId": "1111d622-d6ad-4faf-9e60-e39a3ac47fb0"
      },
      "outputs": [],
      "source": [
        "bplot = sns.pairplot(datos, height=2.5, diag_kind='kde')\n",
        "bplot.fig.suptitle(\"Relaciones entre variables y distribución (para agrandar,\\\n",
        "hacer clic en la imagen)\", fontsize=16, fontweight='bold', y=1.02)"
      ]
    },
    {
      "cell_type": "markdown",
      "metadata": {
        "id": "zWLx4r9Ec_Ab"
      },
      "source": [
        "---\n",
        "De la parrilla anterior pueden extraerse varios **insights adicionales**:\n",
        "1. La **distribución** de las variables es, en general, no normal, a excepción de algunas (\"x9\").\n",
        "2. La **dispersión** solo muestra una relación más o menos clara entre las variables independientes \"x4\" y \"x5\". Además, dicha relación parece ser de carácter polinómico. El resto de nubes de puntos no siguen ningún patrón estilizado.\n",
        "3. En cuanto a las **distribuciones bimodales** que parecían intuirse mediante estadísticos relevantes, la única que se sostiene parece ser la variable \"x3\", que tiene una dualidad muy marcada.\n",
        "\n",
        "---"
      ]
    },
    {
      "cell_type": "code",
      "execution_count": null,
      "metadata": {
        "colab": {
          "base_uri": "https://localhost:8080/",
          "height": 363
        },
        "id": "wasUTW22s8nj",
        "outputId": "f1ae58cc-1dfa-4fb6-eac1-5bc781090ce2"
      },
      "outputs": [],
      "source": [
        "dict_anderson = test_anderson_norm(datos)\n",
        "df_anderson = pd.DataFrame.from_dict(dict_anderson, orient='index')\n",
        "df_anderson.head(10)"
      ]
    },
    {
      "cell_type": "markdown",
      "metadata": {
        "id": "i-HS9-xRwXPE"
      },
      "source": [
        "---\n",
        "Si comparamos el estadístico que devuelve el test con los valores críticos para los distintos niveles de significatividad, comprobamos que, **exceptuando la variable \"x9\", se rechaza la hipótesis nula de normalidad** a todos los niveles de significancia.\n",
        "\n",
        "---"
      ]
    },
    {
      "cell_type": "code",
      "execution_count": null,
      "metadata": {
        "colab": {
          "base_uri": "https://localhost:8080/",
          "height": 699,
          "referenced_widgets": [
            "af9a2506dea1468c855a2575f58c4075",
            "30f1a45c1f76483ca618f16f7464cd90",
            "06859a3714a64287b0bd944e8e721919",
            "310b063ad1494896a9edb17e62e12455",
            "7d77c5792d964d5285c155386f2efd3f",
            "57e973b2bfac4db0a6ad90740b9a7823",
            "c6924c437b1740af8f721a9acb4ca2df"
          ]
        },
        "id": "mLHuwMTdOcgu",
        "outputId": "e7342652-971e-406e-a282-4f916ae9ace7"
      },
      "outputs": [],
      "source": [
        "interact(\n",
        "   heatmap_corr,\n",
        "   df=fixed(datos),\n",
        "   metodologia=['spearman', 'pearson']\n",
        ")"
      ]
    },
    {
      "cell_type": "markdown",
      "metadata": {
        "id": "SB0nkncDyE8r"
      },
      "source": [
        "---\n",
        "Utilizando el método de rangos de Spearman, robusto a no normalidad, vemos que existe **correlación fuerte entre \"x4\" y \"x5\", y entre \"x8\" y la \"deseada\"**.\n",
        "\n",
        "La existencia de alta correlación entre la variable regresada y una regresora no es problemático de cara a realizar predicciones. Sin embargo, si en la fase del modelado optásemos por uno de regresión lineal, habrá que considerar la posible multicolinealidad derivada de la correlación entre \"x4\" y \"x5\".\n",
        "\n",
        "---"
      ]
    },
    {
      "cell_type": "code",
      "execution_count": null,
      "metadata": {
        "id": "Tr3zgOQfHWJr"
      },
      "outputs": [],
      "source": [
        "# Dado que en nuestros datos existen indicios de relaciones no lineales entre\n",
        "# variables, vamos a aplicar el test RESET de Ramsey para corroborarlo\n",
        "y = \"deseada\"\n",
        "X = list(datos.drop(columns=\"deseada\").columns)"
      ]
    },
    {
      "cell_type": "code",
      "execution_count": null,
      "metadata": {
        "colab": {
          "base_uri": "https://localhost:8080/",
          "height": 101,
          "referenced_widgets": [
            "6e5fdc1aa3ba4656bcbb035ee956dc9f",
            "83f7502e0385455fa72ffdc00ab61b4c",
            "965c0c8d120b42b0ac5fe895299fb6cf",
            "5ab6a18be0614ada83bc9ad94e1193df",
            "7087f5489a254d2c8b85860544ccd92b",
            "70ddcc6a86364b709a4f2b669eaf5743",
            "162e4a6460cf4008b3821409b8b14950"
          ]
        },
        "id": "5NuP6W0nOnVr",
        "outputId": "b44a5082-18fd-409c-9a44-9683d18f2492"
      },
      "outputs": [],
      "source": [
        "interact(\n",
        "   reset_test,\n",
        "   df=fixed(datos),\n",
        "   X=fixed(X),\n",
        "   y=fixed(y),\n",
        "   potencia=range(2,10)\n",
        ")"
      ]
    },
    {
      "cell_type": "markdown",
      "metadata": {
        "id": "M6eibZOWR9Hm"
      },
      "source": [
        "---\n",
        "Se ha detectado la **presencia de relaciones** polinómicas de **hasta cuarto orden**\n",
        "\n",
        "---"
      ]
    },
    {
      "cell_type": "code",
      "execution_count": null,
      "metadata": {
        "colab": {
          "base_uri": "https://localhost:8080/",
          "height": 623,
          "referenced_widgets": [
            "a4212d86751d43cca3108ff399924c04",
            "7bd8d97bc5a243c3a239d24575d6305c",
            "01057e3a3aba4c96aa0b9b48061d1e5d",
            "0ac2091668b240dcb2e33cf15f2380f8",
            "9c54672f061c40e685a8f398779dfbf1",
            "fc5d5044092c4e12b276594b082eeb72",
            "11d6003cc0e04cd29b2cf580f9f0d42f"
          ]
        },
        "id": "iJIlhtaaOfT4",
        "outputId": "53ef7f05-83c4-4446-bdcf-7f49bdeb8d25"
      },
      "outputs": [],
      "source": [
        "interact(\n",
        "   grafico_caja,\n",
        "   df=fixed(datos),\n",
        "   column=datos.columns.tolist()\n",
        ")"
      ]
    },
    {
      "cell_type": "markdown",
      "metadata": {
        "id": "9HbU2tcV0epo"
      },
      "source": [
        "---\n",
        "A **excepción de \"x3\", \"x6\" y \"x10\", todas las variables presentan valores atípicos**.\n",
        "\n",
        "---"
      ]
    },
    {
      "cell_type": "markdown",
      "metadata": {
        "id": "p3IKdNmTlEIn"
      },
      "source": [
        "---\n",
        "## 📝 Conclusiones principales EDA\n",
        "\n",
        "- Todas las variables excepto la regresada presentan **nulos, siguiendo patrón MAR** --> se puede aplicar imputación para su subsanación\n",
        "- Alta presencia de **no normalidad** --> problemas en modelos de reg. lineal por violación de supuestos Gauss-Markov si la no-normalidad se traslada a los errores\n",
        "- Variable **x8** potencialmente categórica (15 valores únicos sobre 772 registros). Variable **x1** candidata a aplicarle *binnization* debido a la amplitud de su distribución y los saltos discretos que se aprecian entre quintiles.\n",
        "- **Correlaciones** en el umbral problemático para las variables \"x4\" y \"x5\" --> a vigilar si se elige un modelo de reg. lineal por posible multicolinealidad\n",
        "- Presencia de **relaciones polinómicas** entre las X y la y (hasta de grado 4) --> a tener en cuenta si se elige un modelo lineal para predecir\n",
        "- **Outliers** en casi todos los atributos --> problemas en modelos de reg. lineal por inflación de varianza, que hace que las β dejen de ser MELI. En otro tipo de modelos, como los basados en árboles, no es tan problemático, pero aún así se aplicará escalado robusto en la fase posterior.\n",
        "---"
      ]
    },
    {
      "cell_type": "markdown",
      "metadata": {
        "id": "_ld8jU2dRekP"
      },
      "source": [
        "---\n",
        "Para finalizar con la fase de EDA, se va a proceder a agrupar la variable 'x1' en *bins*, debido a los hallazgos durante la fase exploratoria.\n",
        "\n",
        "Se va a optar por agrupar la variable en cuartiles, buscando un compromiso entre generalidad y granularidad, y sobre todo poniendo énfasis en no sobreajustar la distribución más adelante en la fase de modelizado.\n",
        "\n",
        "---"
      ]
    },
    {
      "cell_type": "code",
      "execution_count": null,
      "metadata": {
        "colab": {
          "base_uri": "https://localhost:8080/",
          "height": 206
        },
        "id": "R_oBquleDFgX",
        "outputId": "99bcd5b2-7b03-47e2-9b0b-aad8f9a792bd"
      },
      "outputs": [],
      "source": [
        "datos['x1_bin'] = pd.qcut(x=datos['x1'], q=4, labels=False, duplicates='drop')\n",
        "df_pipeline = datos.drop(columns='x1')\n",
        "df_pipeline.to_csv('df_pipeline.csv')"
      ]
    }
  ],
  "metadata": {
    "colab": {
      "provenance": []
    },
    "kernelspec": {
      "display_name": "datasci_minimal",
      "language": "python",
      "name": "python3"
    },
    "language_info": {
      "codemirror_mode": {
        "name": "ipython",
        "version": 3
      },
      "file_extension": ".py",
      "mimetype": "text/x-python",
      "name": "python",
      "nbconvert_exporter": "python",
      "pygments_lexer": "ipython3",
      "version": "3.11.13"
    },
    "widgets": {
      "application/vnd.jupyter.widget-state+json": {
        "01057e3a3aba4c96aa0b9b48061d1e5d": {
          "model_module": "@jupyter-widgets/output",
          "model_module_version": "1.0.0",
          "model_name": "OutputModel",
          "state": {
            "_dom_classes": [],
            "_model_module": "@jupyter-widgets/output",
            "_model_module_version": "1.0.0",
            "_model_name": "OutputModel",
            "_view_count": null,
            "_view_module": "@jupyter-widgets/output",
            "_view_module_version": "1.0.0",
            "_view_name": "OutputView",
            "layout": "IPY_MODEL_11d6003cc0e04cd29b2cf580f9f0d42f",
            "msg_id": "",
            "outputs": [
              {
                "data": {
                  "image/png": "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\n",
                  "text/plain": "<Figure size 640x480 with 1 Axes>"
                },
                "metadata": {},
                "output_type": "display_data"
              }
            ]
          }
        },
        "06859a3714a64287b0bd944e8e721919": {
          "model_module": "@jupyter-widgets/output",
          "model_module_version": "1.0.0",
          "model_name": "OutputModel",
          "state": {
            "_dom_classes": [],
            "_model_module": "@jupyter-widgets/output",
            "_model_module_version": "1.0.0",
            "_model_name": "OutputModel",
            "_view_count": null,
            "_view_module": "@jupyter-widgets/output",
            "_view_module_version": "1.0.0",
            "_view_name": "OutputView",
            "layout": "IPY_MODEL_c6924c437b1740af8f721a9acb4ca2df",
            "msg_id": "",
            "outputs": [
              {
                "data": {
                  "image/png": "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\n",
                  "text/plain": "<Figure size 640x480 with 2 Axes>"
                },
                "metadata": {},
                "output_type": "display_data"
              }
            ]
          }
        },
        "0ac2091668b240dcb2e33cf15f2380f8": {
          "model_module": "@jupyter-widgets/base",
          "model_module_version": "1.2.0",
          "model_name": "LayoutModel",
          "state": {
            "_model_module": "@jupyter-widgets/base",
            "_model_module_version": "1.2.0",
            "_model_name": "LayoutModel",
            "_view_count": null,
            "_view_module": "@jupyter-widgets/base",
            "_view_module_version": "1.2.0",
            "_view_name": "LayoutView",
            "align_content": null,
            "align_items": null,
            "align_self": null,
            "border": null,
            "bottom": null,
            "display": null,
            "flex": null,
            "flex_flow": null,
            "grid_area": null,
            "grid_auto_columns": null,
            "grid_auto_flow": null,
            "grid_auto_rows": null,
            "grid_column": null,
            "grid_gap": null,
            "grid_row": null,
            "grid_template_areas": null,
            "grid_template_columns": null,
            "grid_template_rows": null,
            "height": null,
            "justify_content": null,
            "justify_items": null,
            "left": null,
            "margin": null,
            "max_height": null,
            "max_width": null,
            "min_height": null,
            "min_width": null,
            "object_fit": null,
            "object_position": null,
            "order": null,
            "overflow": null,
            "overflow_x": null,
            "overflow_y": null,
            "padding": null,
            "right": null,
            "top": null,
            "visibility": null,
            "width": null
          }
        },
        "11d6003cc0e04cd29b2cf580f9f0d42f": {
          "model_module": "@jupyter-widgets/base",
          "model_module_version": "1.2.0",
          "model_name": "LayoutModel",
          "state": {
            "_model_module": "@jupyter-widgets/base",
            "_model_module_version": "1.2.0",
            "_model_name": "LayoutModel",
            "_view_count": null,
            "_view_module": "@jupyter-widgets/base",
            "_view_module_version": "1.2.0",
            "_view_name": "LayoutView",
            "align_content": null,
            "align_items": null,
            "align_self": null,
            "border": null,
            "bottom": null,
            "display": null,
            "flex": null,
            "flex_flow": null,
            "grid_area": null,
            "grid_auto_columns": null,
            "grid_auto_flow": null,
            "grid_auto_rows": null,
            "grid_column": null,
            "grid_gap": null,
            "grid_row": null,
            "grid_template_areas": null,
            "grid_template_columns": null,
            "grid_template_rows": null,
            "height": null,
            "justify_content": null,
            "justify_items": null,
            "left": null,
            "margin": null,
            "max_height": null,
            "max_width": null,
            "min_height": null,
            "min_width": null,
            "object_fit": null,
            "object_position": null,
            "order": null,
            "overflow": null,
            "overflow_x": null,
            "overflow_y": null,
            "padding": null,
            "right": null,
            "top": null,
            "visibility": null,
            "width": null
          }
        },
        "162e4a6460cf4008b3821409b8b14950": {
          "model_module": "@jupyter-widgets/base",
          "model_module_version": "1.2.0",
          "model_name": "LayoutModel",
          "state": {
            "_model_module": "@jupyter-widgets/base",
            "_model_module_version": "1.2.0",
            "_model_name": "LayoutModel",
            "_view_count": null,
            "_view_module": "@jupyter-widgets/base",
            "_view_module_version": "1.2.0",
            "_view_name": "LayoutView",
            "align_content": null,
            "align_items": null,
            "align_self": null,
            "border": null,
            "bottom": null,
            "display": null,
            "flex": null,
            "flex_flow": null,
            "grid_area": null,
            "grid_auto_columns": null,
            "grid_auto_flow": null,
            "grid_auto_rows": null,
            "grid_column": null,
            "grid_gap": null,
            "grid_row": null,
            "grid_template_areas": null,
            "grid_template_columns": null,
            "grid_template_rows": null,
            "height": null,
            "justify_content": null,
            "justify_items": null,
            "left": null,
            "margin": null,
            "max_height": null,
            "max_width": null,
            "min_height": null,
            "min_width": null,
            "object_fit": null,
            "object_position": null,
            "order": null,
            "overflow": null,
            "overflow_x": null,
            "overflow_y": null,
            "padding": null,
            "right": null,
            "top": null,
            "visibility": null,
            "width": null
          }
        },
        "30f1a45c1f76483ca618f16f7464cd90": {
          "model_module": "@jupyter-widgets/controls",
          "model_module_version": "1.5.0",
          "model_name": "DropdownModel",
          "state": {
            "_dom_classes": [],
            "_model_module": "@jupyter-widgets/controls",
            "_model_module_version": "1.5.0",
            "_model_name": "DropdownModel",
            "_options_labels": [
              "spearman",
              "pearson"
            ],
            "_view_count": null,
            "_view_module": "@jupyter-widgets/controls",
            "_view_module_version": "1.5.0",
            "_view_name": "DropdownView",
            "description": "metodologia",
            "description_tooltip": null,
            "disabled": false,
            "index": 0,
            "layout": "IPY_MODEL_7d77c5792d964d5285c155386f2efd3f",
            "style": "IPY_MODEL_57e973b2bfac4db0a6ad90740b9a7823"
          }
        },
        "310b063ad1494896a9edb17e62e12455": {
          "model_module": "@jupyter-widgets/base",
          "model_module_version": "1.2.0",
          "model_name": "LayoutModel",
          "state": {
            "_model_module": "@jupyter-widgets/base",
            "_model_module_version": "1.2.0",
            "_model_name": "LayoutModel",
            "_view_count": null,
            "_view_module": "@jupyter-widgets/base",
            "_view_module_version": "1.2.0",
            "_view_name": "LayoutView",
            "align_content": null,
            "align_items": null,
            "align_self": null,
            "border": null,
            "bottom": null,
            "display": null,
            "flex": null,
            "flex_flow": null,
            "grid_area": null,
            "grid_auto_columns": null,
            "grid_auto_flow": null,
            "grid_auto_rows": null,
            "grid_column": null,
            "grid_gap": null,
            "grid_row": null,
            "grid_template_areas": null,
            "grid_template_columns": null,
            "grid_template_rows": null,
            "height": null,
            "justify_content": null,
            "justify_items": null,
            "left": null,
            "margin": null,
            "max_height": null,
            "max_width": null,
            "min_height": null,
            "min_width": null,
            "object_fit": null,
            "object_position": null,
            "order": null,
            "overflow": null,
            "overflow_x": null,
            "overflow_y": null,
            "padding": null,
            "right": null,
            "top": null,
            "visibility": null,
            "width": null
          }
        },
        "57e973b2bfac4db0a6ad90740b9a7823": {
          "model_module": "@jupyter-widgets/controls",
          "model_module_version": "1.5.0",
          "model_name": "DescriptionStyleModel",
          "state": {
            "_model_module": "@jupyter-widgets/controls",
            "_model_module_version": "1.5.0",
            "_model_name": "DescriptionStyleModel",
            "_view_count": null,
            "_view_module": "@jupyter-widgets/base",
            "_view_module_version": "1.2.0",
            "_view_name": "StyleView",
            "description_width": ""
          }
        },
        "5ab6a18be0614ada83bc9ad94e1193df": {
          "model_module": "@jupyter-widgets/base",
          "model_module_version": "1.2.0",
          "model_name": "LayoutModel",
          "state": {
            "_model_module": "@jupyter-widgets/base",
            "_model_module_version": "1.2.0",
            "_model_name": "LayoutModel",
            "_view_count": null,
            "_view_module": "@jupyter-widgets/base",
            "_view_module_version": "1.2.0",
            "_view_name": "LayoutView",
            "align_content": null,
            "align_items": null,
            "align_self": null,
            "border": null,
            "bottom": null,
            "display": null,
            "flex": null,
            "flex_flow": null,
            "grid_area": null,
            "grid_auto_columns": null,
            "grid_auto_flow": null,
            "grid_auto_rows": null,
            "grid_column": null,
            "grid_gap": null,
            "grid_row": null,
            "grid_template_areas": null,
            "grid_template_columns": null,
            "grid_template_rows": null,
            "height": null,
            "justify_content": null,
            "justify_items": null,
            "left": null,
            "margin": null,
            "max_height": null,
            "max_width": null,
            "min_height": null,
            "min_width": null,
            "object_fit": null,
            "object_position": null,
            "order": null,
            "overflow": null,
            "overflow_x": null,
            "overflow_y": null,
            "padding": null,
            "right": null,
            "top": null,
            "visibility": null,
            "width": null
          }
        },
        "6e5fdc1aa3ba4656bcbb035ee956dc9f": {
          "model_module": "@jupyter-widgets/controls",
          "model_module_version": "1.5.0",
          "model_name": "VBoxModel",
          "state": {
            "_dom_classes": [
              "widget-interact"
            ],
            "_model_module": "@jupyter-widgets/controls",
            "_model_module_version": "1.5.0",
            "_model_name": "VBoxModel",
            "_view_count": null,
            "_view_module": "@jupyter-widgets/controls",
            "_view_module_version": "1.5.0",
            "_view_name": "VBoxView",
            "box_style": "",
            "children": [
              "IPY_MODEL_83f7502e0385455fa72ffdc00ab61b4c",
              "IPY_MODEL_965c0c8d120b42b0ac5fe895299fb6cf"
            ],
            "layout": "IPY_MODEL_5ab6a18be0614ada83bc9ad94e1193df"
          }
        },
        "7087f5489a254d2c8b85860544ccd92b": {
          "model_module": "@jupyter-widgets/base",
          "model_module_version": "1.2.0",
          "model_name": "LayoutModel",
          "state": {
            "_model_module": "@jupyter-widgets/base",
            "_model_module_version": "1.2.0",
            "_model_name": "LayoutModel",
            "_view_count": null,
            "_view_module": "@jupyter-widgets/base",
            "_view_module_version": "1.2.0",
            "_view_name": "LayoutView",
            "align_content": null,
            "align_items": null,
            "align_self": null,
            "border": null,
            "bottom": null,
            "display": null,
            "flex": null,
            "flex_flow": null,
            "grid_area": null,
            "grid_auto_columns": null,
            "grid_auto_flow": null,
            "grid_auto_rows": null,
            "grid_column": null,
            "grid_gap": null,
            "grid_row": null,
            "grid_template_areas": null,
            "grid_template_columns": null,
            "grid_template_rows": null,
            "height": null,
            "justify_content": null,
            "justify_items": null,
            "left": null,
            "margin": null,
            "max_height": null,
            "max_width": null,
            "min_height": null,
            "min_width": null,
            "object_fit": null,
            "object_position": null,
            "order": null,
            "overflow": null,
            "overflow_x": null,
            "overflow_y": null,
            "padding": null,
            "right": null,
            "top": null,
            "visibility": null,
            "width": null
          }
        },
        "70ddcc6a86364b709a4f2b669eaf5743": {
          "model_module": "@jupyter-widgets/controls",
          "model_module_version": "1.5.0",
          "model_name": "DescriptionStyleModel",
          "state": {
            "_model_module": "@jupyter-widgets/controls",
            "_model_module_version": "1.5.0",
            "_model_name": "DescriptionStyleModel",
            "_view_count": null,
            "_view_module": "@jupyter-widgets/base",
            "_view_module_version": "1.2.0",
            "_view_name": "StyleView",
            "description_width": ""
          }
        },
        "7bd8d97bc5a243c3a239d24575d6305c": {
          "model_module": "@jupyter-widgets/controls",
          "model_module_version": "1.5.0",
          "model_name": "DropdownModel",
          "state": {
            "_dom_classes": [],
            "_model_module": "@jupyter-widgets/controls",
            "_model_module_version": "1.5.0",
            "_model_name": "DropdownModel",
            "_options_labels": [
              "x1",
              "x2",
              "x3",
              "x4",
              "x5",
              "x6",
              "x7",
              "x8",
              "x9",
              "x10",
              "deseada"
            ],
            "_view_count": null,
            "_view_module": "@jupyter-widgets/controls",
            "_view_module_version": "1.5.0",
            "_view_name": "DropdownView",
            "description": "column",
            "description_tooltip": null,
            "disabled": false,
            "index": 0,
            "layout": "IPY_MODEL_9c54672f061c40e685a8f398779dfbf1",
            "style": "IPY_MODEL_fc5d5044092c4e12b276594b082eeb72"
          }
        },
        "7d77c5792d964d5285c155386f2efd3f": {
          "model_module": "@jupyter-widgets/base",
          "model_module_version": "1.2.0",
          "model_name": "LayoutModel",
          "state": {
            "_model_module": "@jupyter-widgets/base",
            "_model_module_version": "1.2.0",
            "_model_name": "LayoutModel",
            "_view_count": null,
            "_view_module": "@jupyter-widgets/base",
            "_view_module_version": "1.2.0",
            "_view_name": "LayoutView",
            "align_content": null,
            "align_items": null,
            "align_self": null,
            "border": null,
            "bottom": null,
            "display": null,
            "flex": null,
            "flex_flow": null,
            "grid_area": null,
            "grid_auto_columns": null,
            "grid_auto_flow": null,
            "grid_auto_rows": null,
            "grid_column": null,
            "grid_gap": null,
            "grid_row": null,
            "grid_template_areas": null,
            "grid_template_columns": null,
            "grid_template_rows": null,
            "height": null,
            "justify_content": null,
            "justify_items": null,
            "left": null,
            "margin": null,
            "max_height": null,
            "max_width": null,
            "min_height": null,
            "min_width": null,
            "object_fit": null,
            "object_position": null,
            "order": null,
            "overflow": null,
            "overflow_x": null,
            "overflow_y": null,
            "padding": null,
            "right": null,
            "top": null,
            "visibility": null,
            "width": null
          }
        },
        "83f7502e0385455fa72ffdc00ab61b4c": {
          "model_module": "@jupyter-widgets/controls",
          "model_module_version": "1.5.0",
          "model_name": "DropdownModel",
          "state": {
            "_dom_classes": [],
            "_model_module": "@jupyter-widgets/controls",
            "_model_module_version": "1.5.0",
            "_model_name": "DropdownModel",
            "_options_labels": [
              "2",
              "3",
              "4",
              "5",
              "6",
              "7",
              "8",
              "9"
            ],
            "_view_count": null,
            "_view_module": "@jupyter-widgets/controls",
            "_view_module_version": "1.5.0",
            "_view_name": "DropdownView",
            "description": "potencia",
            "description_tooltip": null,
            "disabled": false,
            "index": 0,
            "layout": "IPY_MODEL_7087f5489a254d2c8b85860544ccd92b",
            "style": "IPY_MODEL_70ddcc6a86364b709a4f2b669eaf5743"
          }
        },
        "965c0c8d120b42b0ac5fe895299fb6cf": {
          "model_module": "@jupyter-widgets/output",
          "model_module_version": "1.0.0",
          "model_name": "OutputModel",
          "state": {
            "_dom_classes": [],
            "_model_module": "@jupyter-widgets/output",
            "_model_module_version": "1.0.0",
            "_model_name": "OutputModel",
            "_view_count": null,
            "_view_module": "@jupyter-widgets/output",
            "_view_module_version": "1.0.0",
            "_view_name": "OutputView",
            "layout": "IPY_MODEL_162e4a6460cf4008b3821409b8b14950",
            "msg_id": "",
            "outputs": [
              {
                "data": {
                  "text/plain": "<class 'statsmodels.stats.contrast.ContrastResults'>\n<Wald test (chi2): statistic=13.789799362206363, p-value=0.00020444324681994857, df_denom=1>"
                },
                "metadata": {},
                "output_type": "display_data"
              }
            ]
          }
        },
        "9c54672f061c40e685a8f398779dfbf1": {
          "model_module": "@jupyter-widgets/base",
          "model_module_version": "1.2.0",
          "model_name": "LayoutModel",
          "state": {
            "_model_module": "@jupyter-widgets/base",
            "_model_module_version": "1.2.0",
            "_model_name": "LayoutModel",
            "_view_count": null,
            "_view_module": "@jupyter-widgets/base",
            "_view_module_version": "1.2.0",
            "_view_name": "LayoutView",
            "align_content": null,
            "align_items": null,
            "align_self": null,
            "border": null,
            "bottom": null,
            "display": null,
            "flex": null,
            "flex_flow": null,
            "grid_area": null,
            "grid_auto_columns": null,
            "grid_auto_flow": null,
            "grid_auto_rows": null,
            "grid_column": null,
            "grid_gap": null,
            "grid_row": null,
            "grid_template_areas": null,
            "grid_template_columns": null,
            "grid_template_rows": null,
            "height": null,
            "justify_content": null,
            "justify_items": null,
            "left": null,
            "margin": null,
            "max_height": null,
            "max_width": null,
            "min_height": null,
            "min_width": null,
            "object_fit": null,
            "object_position": null,
            "order": null,
            "overflow": null,
            "overflow_x": null,
            "overflow_y": null,
            "padding": null,
            "right": null,
            "top": null,
            "visibility": null,
            "width": null
          }
        },
        "a4212d86751d43cca3108ff399924c04": {
          "model_module": "@jupyter-widgets/controls",
          "model_module_version": "1.5.0",
          "model_name": "VBoxModel",
          "state": {
            "_dom_classes": [
              "widget-interact"
            ],
            "_model_module": "@jupyter-widgets/controls",
            "_model_module_version": "1.5.0",
            "_model_name": "VBoxModel",
            "_view_count": null,
            "_view_module": "@jupyter-widgets/controls",
            "_view_module_version": "1.5.0",
            "_view_name": "VBoxView",
            "box_style": "",
            "children": [
              "IPY_MODEL_7bd8d97bc5a243c3a239d24575d6305c",
              "IPY_MODEL_01057e3a3aba4c96aa0b9b48061d1e5d"
            ],
            "layout": "IPY_MODEL_0ac2091668b240dcb2e33cf15f2380f8"
          }
        },
        "af9a2506dea1468c855a2575f58c4075": {
          "model_module": "@jupyter-widgets/controls",
          "model_module_version": "1.5.0",
          "model_name": "VBoxModel",
          "state": {
            "_dom_classes": [
              "widget-interact"
            ],
            "_model_module": "@jupyter-widgets/controls",
            "_model_module_version": "1.5.0",
            "_model_name": "VBoxModel",
            "_view_count": null,
            "_view_module": "@jupyter-widgets/controls",
            "_view_module_version": "1.5.0",
            "_view_name": "VBoxView",
            "box_style": "",
            "children": [
              "IPY_MODEL_30f1a45c1f76483ca618f16f7464cd90",
              "IPY_MODEL_06859a3714a64287b0bd944e8e721919"
            ],
            "layout": "IPY_MODEL_310b063ad1494896a9edb17e62e12455"
          }
        },
        "c6924c437b1740af8f721a9acb4ca2df": {
          "model_module": "@jupyter-widgets/base",
          "model_module_version": "1.2.0",
          "model_name": "LayoutModel",
          "state": {
            "_model_module": "@jupyter-widgets/base",
            "_model_module_version": "1.2.0",
            "_model_name": "LayoutModel",
            "_view_count": null,
            "_view_module": "@jupyter-widgets/base",
            "_view_module_version": "1.2.0",
            "_view_name": "LayoutView",
            "align_content": null,
            "align_items": null,
            "align_self": null,
            "border": null,
            "bottom": null,
            "display": null,
            "flex": null,
            "flex_flow": null,
            "grid_area": null,
            "grid_auto_columns": null,
            "grid_auto_flow": null,
            "grid_auto_rows": null,
            "grid_column": null,
            "grid_gap": null,
            "grid_row": null,
            "grid_template_areas": null,
            "grid_template_columns": null,
            "grid_template_rows": null,
            "height": null,
            "justify_content": null,
            "justify_items": null,
            "left": null,
            "margin": null,
            "max_height": null,
            "max_width": null,
            "min_height": null,
            "min_width": null,
            "object_fit": null,
            "object_position": null,
            "order": null,
            "overflow": null,
            "overflow_x": null,
            "overflow_y": null,
            "padding": null,
            "right": null,
            "top": null,
            "visibility": null,
            "width": null
          }
        },
        "fc5d5044092c4e12b276594b082eeb72": {
          "model_module": "@jupyter-widgets/controls",
          "model_module_version": "1.5.0",
          "model_name": "DescriptionStyleModel",
          "state": {
            "_model_module": "@jupyter-widgets/controls",
            "_model_module_version": "1.5.0",
            "_model_name": "DescriptionStyleModel",
            "_view_count": null,
            "_view_module": "@jupyter-widgets/base",
            "_view_module_version": "1.2.0",
            "_view_name": "StyleView",
            "description_width": ""
          }
        }
      }
    }
  },
  "nbformat": 4,
  "nbformat_minor": 0
}
