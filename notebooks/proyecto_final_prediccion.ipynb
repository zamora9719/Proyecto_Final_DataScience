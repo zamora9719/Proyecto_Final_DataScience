{
 "cells": [
  {
   "cell_type": "code",
   "execution_count": 1,
   "id": "6f1dfca7",
   "metadata": {},
   "outputs": [],
   "source": [
    "import pandas as pd\n",
    "import numpy as np\n",
    "from sklearn.pipeline import Pipeline\n",
    "from sklearn.compose import ColumnTransformer\n",
    "from sklearn.preprocessing import RobustScaler\n",
    "from sklearn.impute import KNNImputer\n",
    "from sklearn.ensemble import GradientBoostingRegressor\n",
    "from sklearn.feature_selection import SelectFromModel\n",
    "from sklearn.linear_model import LassoCV"
   ]
  },
  {
   "cell_type": "code",
   "execution_count": 2,
   "id": "feb60ca3",
   "metadata": {},
   "outputs": [],
   "source": [
    "datos_train = pd.read_excel('train.xlsx')\n",
    "datos_test = pd.read_excel('test_inputs.xlsx')\n",
    "\n",
    "X_train = datos_train.drop(columns='deseada')\n",
    "y_train = datos_train['deseada']\n",
    "X_test = datos_test"
   ]
  },
  {
   "cell_type": "code",
   "execution_count": 3,
   "id": "d3db961c",
   "metadata": {},
   "outputs": [],
   "source": [
    "prep = Pipeline([\n",
    "    ('imputadorKNN', KNNImputer(n_neighbors=7)),\n",
    "    ('escalador', RobustScaler())\n",
    "])\n",
    "\n",
    "selector_lasso = SelectFromModel(\n",
    "    LassoCV(\n",
    "        alphas=np.logspace(-4, 1, 100),\n",
    "        cv=5,\n",
    "        random_state=42,\n",
    "        max_iter=10000\n",
    "        ),\n",
    "        threshold='median'\n",
    "        )"
   ]
  },
  {
   "cell_type": "code",
   "execution_count": 4,
   "id": "5c76945b",
   "metadata": {},
   "outputs": [],
   "source": [
    "pipeline = Pipeline(steps=[\n",
    "    ('preprocessor', prep),\n",
    "    ('selector', selector_lasso),\n",
    "    ('model', GradientBoostingRegressor(\n",
    "        learning_rate=np.float64(0.017279572377986996),\n",
    "        max_depth=4,\n",
    "        max_features=np.float64(0.7428068767931133),\n",
    "        min_samples_leaf=3,\n",
    "        min_samples_split=17,\n",
    "        n_estimators=780,\n",
    "        subsample=np.float64(0.6703701010709381),\n",
    "        random_state=42\n",
    "    ))\n",
    "])"
   ]
  },
  {
   "cell_type": "code",
   "execution_count": 5,
   "id": "1d4d8548",
   "metadata": {},
   "outputs": [],
   "source": [
    "pipeline.fit(X_train, y_train)\n",
    "predicciones = pipeline.predict(X_test)"
   ]
  },
  {
   "cell_type": "code",
   "execution_count": 6,
   "id": "2215a450",
   "metadata": {},
   "outputs": [
    {
     "name": "stdout",
     "output_type": "stream",
     "text": [
      "[46.31363742 50.75403124 72.932358   36.17442015 13.44993525 43.61493493\n",
      " 24.16289096 55.29516774 37.17618919 48.95589619 39.08112621 11.43868258\n",
      " 43.18943315 45.9639074  28.48938526 23.5741378  36.48235116 35.78424354\n",
      " 39.10419172 27.87421466 36.2163677  37.13367572 47.86201015 10.12453201\n",
      " 33.4544904  20.69748268 12.51294295 45.33906825 52.11133471 14.16445851\n",
      " 46.5846509  44.01788456 43.6733046  57.21887072 35.41230599 39.56330273\n",
      " 36.36469153 42.93243264 11.35292038 50.29383268 15.37974038  5.91315906\n",
      " 38.66189906 43.96046693 10.63633603 66.58014062 35.80583238 37.21421131\n",
      " 26.09022217 11.72259253 49.58896317 32.36512837 27.58633232 19.45362018\n",
      " 38.46790728 29.38839342 32.23189593 12.30216656 22.93044753 23.84777355\n",
      " 35.84601275 14.22417561 32.45457241 52.1542492  27.46995618 24.21591108\n",
      " 35.67876953 15.2526896  33.71271598 26.21240854 20.1646296  23.47340034\n",
      "  9.28360028 39.15168687 28.01824434 14.93233583 49.37963489 57.24236066\n",
      " 51.12760218 11.96536842 38.2851774  37.64162949 48.21312016 40.02328619\n",
      " 41.76337244 36.17442015 31.24536788 37.51603831 25.37602249 20.68243645\n",
      " 32.60678906 72.5163353  11.7596835  51.62690003 41.99325447 45.03651764\n",
      " 29.3335121  34.44874821 17.71536905 31.28468865 21.35263615 44.73402375\n",
      " 34.34927663 22.42187623 69.42006245 11.25888459 54.54193199 42.22304121\n",
      " 36.24988645 55.34563126 37.64929102 50.60182191 21.3389023  42.63256019\n",
      " 34.38484786 58.79740579 22.02416468 35.98549175 60.81650475 42.38446209\n",
      " 19.57503365 38.61845655 52.26628303 31.9235387  27.28406892 46.87464843\n",
      " 55.73141779 48.63054769 42.42179039 38.44573791 14.8925992  34.75688825\n",
      " 22.15449431 66.26822911 10.05137527 43.02776828 34.12354803 23.00398025\n",
      " 19.97982255 34.15203746 33.69149565 27.97204025 14.5902131  34.60982408\n",
      " 45.45413174 40.62174169 29.0412598  16.00344273  8.70212582 13.77289785\n",
      " 33.1598542  22.66481936 40.40825116 26.27558184 47.02064013 38.37653271\n",
      " 27.90018854 48.91903049 50.75403124 45.01006427 14.27588619 52.49633313\n",
      " 34.83571047 46.14996739 34.97981581 59.23179309 42.9625832  26.04823364\n",
      " 43.14048446 22.53025369 44.18448232 29.28463429 22.40137053 42.43384729\n",
      " 30.23741084 13.31212994 28.90911027 51.68402941 45.13565102 37.77208013\n",
      " 29.59846095 30.19512551 47.04615698 32.36364342 41.42931406 37.44495906\n",
      " 25.36723227 32.94787953 51.77071924 15.7670733  28.16022318 46.09516703\n",
      " 45.61068186 42.03211778 17.22622838 30.91798068 53.21135394 21.77202398\n",
      " 24.64223448 27.35996416 43.10573291 55.01455262 24.25366453 45.60812209\n",
      " 59.36638013 48.96940637 47.17303617 48.69634765 23.49703506 34.14057542\n",
      " 13.49479292 22.85831103 23.2216225  42.98389544 33.36347257  5.30782558\n",
      " 16.13414913 38.92200634 21.554659   69.40079152 30.51080537 55.90993555\n",
      " 50.69185962 17.94257356 45.65319097 19.35829316 26.33012952 19.00371211\n",
      " 24.82993616 31.1086038  14.89441266 14.42922131 46.27186791 42.48133495\n",
      " 34.71328857 37.0750521  28.53515999 32.32519593 43.38635725 13.57950493\n",
      " 25.71086799 40.55367919 35.42861506 30.96058402 69.00566465 28.51635952\n",
      " 51.53349863 21.61383633 48.61699357 64.49728319 42.23347507 40.23960959\n",
      " 39.47603582 25.49996645 38.89242504 17.28757921 28.28408835 31.39147637]\n"
     ]
    }
   ],
   "source": [
    "print(predicciones)"
   ]
  },
  {
   "cell_type": "code",
   "execution_count": 10,
   "id": "34fab57d",
   "metadata": {},
   "outputs": [],
   "source": [
    "len(predicciones)\n",
    "df_output = pd.DataFrame(predicciones, columns=['predicha'])\n",
    "df_output.to_excel('Carlos_Zamora.xlsx')"
   ]
  }
 ],
 "metadata": {
  "kernelspec": {
   "display_name": "datasci_minimal",
   "language": "python",
   "name": "python3"
  },
  "language_info": {
   "codemirror_mode": {
    "name": "ipython",
    "version": 3
   },
   "file_extension": ".py",
   "mimetype": "text/x-python",
   "name": "python",
   "nbconvert_exporter": "python",
   "pygments_lexer": "ipython3",
   "version": "3.11.13"
  }
 },
 "nbformat": 4,
 "nbformat_minor": 5
}
